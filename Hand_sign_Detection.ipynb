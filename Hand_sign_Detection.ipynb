{
  "nbformat": 4,
  "nbformat_minor": 0,
  "metadata": {
    "colab": {
      "name": "Untitled4.ipynb",
      "provenance": [],
      "collapsed_sections": []
    },
    "kernelspec": {
      "name": "python3",
      "display_name": "Python 3"
    },
    "accelerator": "GPU"
  },
  "cells": [
    {
      "cell_type": "markdown",
      "metadata": {
        "id": "lIefvlnArqW9",
        "colab_type": "text"
      },
      "source": [
        "# Hand-Sign Detection"
      ]
    },
    {
      "cell_type": "markdown",
      "metadata": {
        "id": "gc3cq4x8rvwJ",
        "colab_type": "text"
      },
      "source": [
        "### Importing required libraries and functions"
      ]
    },
    {
      "cell_type": "code",
      "metadata": {
        "id": "eBv7XqVATiZv",
        "colab_type": "code",
        "colab": {
          "base_uri": "https://localhost:8080/",
          "height": 34
        },
        "outputId": "091c041e-09a3-4f21-c980-4c1317d4f08c"
      },
      "source": [
        "import numpy as np\n",
        "# Image handling library openCV\n",
        "import cv2\n",
        "# Library to access data from folders\n",
        "import os\n",
        "# Function to split the dataset into train and test\n",
        "from sklearn.model_selection import train_test_split\n",
        "# Utilities for the Model \n",
        "import tensorflow as tf\n",
        "from tensorflow import keras\n",
        "from keras.models import Sequential, load_model\n",
        "from keras.layers import Conv2D, Dropout, MaxPooling2D, Dense, Flatten,BatchNormalization\n",
        "from keras.callbacks import EarlyStopping, ModelCheckpoint\n",
        "from keras.utils import to_categorical\n",
        "from tensorflow.keras import regularizers\n",
        "from keras.regularizers import l1,l2\n",
        "from keras.preprocessing.image import ImageDataGenerator\n",
        "# Plotting Library\n",
        "import matplotlib.pyplot as plt"
      ],
      "execution_count": 1,
      "outputs": [
        {
          "output_type": "stream",
          "text": [
            "Using TensorFlow backend.\n"
          ],
          "name": "stderr"
        }
      ]
    },
    {
      "cell_type": "code",
      "metadata": {
        "id": "pPQESW3rnFLT",
        "colab_type": "code",
        "colab": {}
      },
      "source": [
        "# Using cv2.imshow in Colab.\n",
        "from google.colab.patches import cv2_imshow"
      ],
      "execution_count": 2,
      "outputs": []
    },
    {
      "cell_type": "code",
      "metadata": {
        "id": "Sh5Ou7dDVMkK",
        "colab_type": "code",
        "colab": {}
      },
      "source": [
        "# The place where the data is stored\n",
        "folder = '/content/drive/My Drive/Sign_Language_digits'\n",
        "list_folders = os.listdir(folder)"
      ],
      "execution_count": 3,
      "outputs": []
    },
    {
      "cell_type": "markdown",
      "metadata": {
        "id": "iyYyhiMNrfyn",
        "colab_type": "text"
      },
      "source": [
        "### Reading data from folders and resizing all images to the same shape"
      ]
    },
    {
      "cell_type": "code",
      "metadata": {
        "id": "KUbclF3mVbJ4",
        "colab_type": "code",
        "colab": {
          "base_uri": "https://localhost:8080/",
          "height": 185
        },
        "outputId": "e04a8dc5-fbd0-4a89-8572-7e41d37890bd"
      },
      "source": [
        "X = []\n",
        "Y = []\n",
        "\n",
        "for a in list_folders:\n",
        "  l = os.listdir(folder + '/' + a)\n",
        "  for b in l:\n",
        "    im = cv2.imread(folder+'/'+a+'/'+b)\n",
        "    im = cv2.resize(im, dsize = (100,100))\n",
        "    X.append(im)\n",
        "    Y.append(int(a))\n",
        "  print(a)"
      ],
      "execution_count": 4,
      "outputs": [
        {
          "output_type": "stream",
          "text": [
            "7\n",
            "5\n",
            "8\n",
            "6\n",
            "9\n",
            "4\n",
            "1\n",
            "0\n",
            "3\n",
            "2\n"
          ],
          "name": "stdout"
        }
      ]
    },
    {
      "cell_type": "code",
      "metadata": {
        "id": "oVC2iHw-WtRf",
        "colab_type": "code",
        "colab": {
          "base_uri": "https://localhost:8080/",
          "height": 34
        },
        "outputId": "0f65f262-f112-446b-d42b-bc6dc934fbb1"
      },
      "source": [
        "# Convert the list into a Numpy array and check its shape\n",
        "X = np.array(X)\n",
        "X.shape"
      ],
      "execution_count": 5,
      "outputs": [
        {
          "output_type": "execute_result",
          "data": {
            "text/plain": [
              "(2062, 100, 100, 3)"
            ]
          },
          "metadata": {
            "tags": []
          },
          "execution_count": 5
        }
      ]
    },
    {
      "cell_type": "code",
      "metadata": {
        "id": "35CcWPBblWUo",
        "colab_type": "code",
        "colab": {}
      },
      "source": [
        "# X_n is a normalised version of the input images\n",
        "X_n = (X/255) - 0.5"
      ],
      "execution_count": 6,
      "outputs": []
    },
    {
      "cell_type": "code",
      "metadata": {
        "id": "ztNyQW8mlIJe",
        "colab_type": "code",
        "colab": {
          "base_uri": "https://localhost:8080/",
          "height": 34
        },
        "outputId": "5376349b-4f06-4585-cb11-b90fe6ab6943"
      },
      "source": [
        "X_n.shape"
      ],
      "execution_count": 7,
      "outputs": [
        {
          "output_type": "execute_result",
          "data": {
            "text/plain": [
              "(2062, 100, 100, 3)"
            ]
          },
          "metadata": {
            "tags": []
          },
          "execution_count": 7
        }
      ]
    },
    {
      "cell_type": "code",
      "metadata": {
        "id": "BRFLc6wFgRXw",
        "colab_type": "code",
        "colab": {
          "base_uri": "https://localhost:8080/",
          "height": 34
        },
        "outputId": "2bb5437c-6cc6-45e1-ad19-20f5c287fa86"
      },
      "source": [
        "# Check the target data shape, convert it to numpy array.\n",
        "Y = np.array(Y)\n",
        "Y= Y.reshape((2062,1))\n",
        "Y.shape"
      ],
      "execution_count": 8,
      "outputs": [
        {
          "output_type": "execute_result",
          "data": {
            "text/plain": [
              "(2062, 1)"
            ]
          },
          "metadata": {
            "tags": []
          },
          "execution_count": 8
        }
      ]
    },
    {
      "cell_type": "code",
      "metadata": {
        "id": "Knsu0882jZVn",
        "colab_type": "code",
        "colab": {}
      },
      "source": [
        "# Get the one hot encoded version of target\n",
        "Y = to_categorical(Y)"
      ],
      "execution_count": 9,
      "outputs": []
    },
    {
      "cell_type": "markdown",
      "metadata": {
        "id": "JtAiTCDgtOR0",
        "colab_type": "text"
      },
      "source": [
        "## Model Building"
      ]
    },
    {
      "cell_type": "code",
      "metadata": {
        "id": "jcqvdQWUZk9G",
        "colab_type": "code",
        "colab": {
          "base_uri": "https://localhost:8080/",
          "height": 790
        },
        "outputId": "9bcb3642-b8a8-45c2-fdd5-e559625dd1b2"
      },
      "source": [
        "model = Sequential()\n",
        "model.add(Conv2D(64 , (3,3) , strides = 1 , padding = 'same' , activation = 'relu' , input_shape = (100,100,3)))\n",
        "model.add(BatchNormalization())\n",
        "model.add(MaxPooling2D((2,2) , strides = 2 , padding = 'same'))\n",
        "model.add(Conv2D(128 , (3,3) , strides = 1 , padding = 'same' , activation = 'relu'))\n",
        "model.add(Dropout(0.2))\n",
        "model.add(BatchNormalization())\n",
        "model.add(MaxPooling2D((2,2) , strides = 2 , padding = 'same'))\n",
        "model.add(Conv2D(32 , (3,3) , strides = 1 , padding = 'same' , activation = 'relu'))\n",
        "model.add(BatchNormalization())\n",
        "model.add(MaxPooling2D((2,2) , strides = 2 , padding = 'same'))\n",
        "model.add(Conv2D(128 , (3,3) , strides = 1 , padding = 'same' , activation = 'relu'))\n",
        "model.add(Dropout(0.2))\n",
        "model.add(BatchNormalization())\n",
        "model.add(MaxPooling2D((2,2) , strides = 2 , padding = 'same'))\n",
        "model.add(Flatten())\n",
        "model.add(Dense(units = 512 , activation = 'relu'))\n",
        "model.add(Dropout(0.3))\n",
        "model.add(Dense(units = 100, activation = 'relu'))\n",
        "model.add(Dense(units = 10 , activation = 'softmax'))\n",
        "model.compile(optimizer = 'adam' , loss = 'categorical_crossentropy' , metrics = ['accuracy'])\n",
        "model.summary()"
      ],
      "execution_count": 10,
      "outputs": [
        {
          "output_type": "stream",
          "text": [
            "Model: \"sequential_1\"\n",
            "_________________________________________________________________\n",
            "Layer (type)                 Output Shape              Param #   \n",
            "=================================================================\n",
            "conv2d_1 (Conv2D)            (None, 100, 100, 64)      1792      \n",
            "_________________________________________________________________\n",
            "batch_normalization_1 (Batch (None, 100, 100, 64)      256       \n",
            "_________________________________________________________________\n",
            "max_pooling2d_1 (MaxPooling2 (None, 50, 50, 64)        0         \n",
            "_________________________________________________________________\n",
            "conv2d_2 (Conv2D)            (None, 50, 50, 128)       73856     \n",
            "_________________________________________________________________\n",
            "dropout_1 (Dropout)          (None, 50, 50, 128)       0         \n",
            "_________________________________________________________________\n",
            "batch_normalization_2 (Batch (None, 50, 50, 128)       512       \n",
            "_________________________________________________________________\n",
            "max_pooling2d_2 (MaxPooling2 (None, 25, 25, 128)       0         \n",
            "_________________________________________________________________\n",
            "conv2d_3 (Conv2D)            (None, 25, 25, 32)        36896     \n",
            "_________________________________________________________________\n",
            "batch_normalization_3 (Batch (None, 25, 25, 32)        128       \n",
            "_________________________________________________________________\n",
            "max_pooling2d_3 (MaxPooling2 (None, 13, 13, 32)        0         \n",
            "_________________________________________________________________\n",
            "conv2d_4 (Conv2D)            (None, 13, 13, 128)       36992     \n",
            "_________________________________________________________________\n",
            "dropout_2 (Dropout)          (None, 13, 13, 128)       0         \n",
            "_________________________________________________________________\n",
            "batch_normalization_4 (Batch (None, 13, 13, 128)       512       \n",
            "_________________________________________________________________\n",
            "max_pooling2d_4 (MaxPooling2 (None, 7, 7, 128)         0         \n",
            "_________________________________________________________________\n",
            "flatten_1 (Flatten)          (None, 6272)              0         \n",
            "_________________________________________________________________\n",
            "dense_1 (Dense)              (None, 512)               3211776   \n",
            "_________________________________________________________________\n",
            "dropout_3 (Dropout)          (None, 512)               0         \n",
            "_________________________________________________________________\n",
            "dense_2 (Dense)              (None, 100)               51300     \n",
            "_________________________________________________________________\n",
            "dense_3 (Dense)              (None, 10)                1010      \n",
            "=================================================================\n",
            "Total params: 3,415,030\n",
            "Trainable params: 3,414,326\n",
            "Non-trainable params: 704\n",
            "_________________________________________________________________\n"
          ],
          "name": "stdout"
        }
      ]
    },
    {
      "cell_type": "code",
      "metadata": {
        "id": "RnSppu4VaawO",
        "colab_type": "code",
        "colab": {}
      },
      "source": [
        "X_train,X_test,Y_train,Y_test = train_test_split(X,Y,test_size = 0.1,random_state=42)"
      ],
      "execution_count": 11,
      "outputs": []
    },
    {
      "cell_type": "markdown",
      "metadata": {
        "id": "oCTXvZIAt-A5",
        "colab_type": "text"
      },
      "source": [
        "### Image data Augumentation: Applies random filters to data such as zooming in, rotating etc.. It helps gather more training data and makes model more versatile "
      ]
    },
    {
      "cell_type": "code",
      "metadata": {
        "id": "EcpzzNyWaySH",
        "colab_type": "code",
        "colab": {}
      },
      "source": [
        "datagen = ImageDataGenerator( \n",
        "        rotation_range=10,  # randomly rotate images in the range of 0-180 degrees\n",
        "        zoom_range = 0.1, # Randomly zoom image \n",
        "        width_shift_range=0.1,  # randomly shift images horizontally (fraction of total width)\n",
        "        height_shift_range=0.1,  # randomly shift images vertically (fraction of total height)\n",
        "        )\n",
        "\n",
        "\n",
        "datagen.fit(X_train)"
      ],
      "execution_count": 12,
      "outputs": []
    },
    {
      "cell_type": "markdown",
      "metadata": {
        "id": "_32CaZ8QvG8t",
        "colab_type": "text"
      },
      "source": [
        "## Training"
      ]
    },
    {
      "cell_type": "markdown",
      "metadata": {
        "id": "ULt3wX82uVRu",
        "colab_type": "text"
      },
      "source": [
        "# Fit the model"
      ]
    },
    {
      "cell_type": "code",
      "metadata": {
        "id": "lXejqolEa236",
        "colab_type": "code",
        "colab": {
          "base_uri": "https://localhost:8080/",
          "height": 1000
        },
        "outputId": "fe48c020-f99e-4c9a-d2b8-fe4d129ebbf0"
      },
      "source": [
        "history = model.fit(datagen.flow(X_train,Y_train, batch_size = 16) ,epochs = 100 )"
      ],
      "execution_count": 13,
      "outputs": [
        {
          "output_type": "stream",
          "text": [
            "Epoch 1/100\n",
            "116/116 [==============================] - 11s 94ms/step - loss: 2.3616 - accuracy: 0.3181\n",
            "Epoch 2/100\n",
            "116/116 [==============================] - 8s 72ms/step - loss: 0.9837 - accuracy: 0.6528\n",
            "Epoch 3/100\n",
            "116/116 [==============================] - 8s 72ms/step - loss: 0.6254 - accuracy: 0.7887\n",
            "Epoch 4/100\n",
            "116/116 [==============================] - 8s 72ms/step - loss: 0.4266 - accuracy: 0.8658\n",
            "Epoch 5/100\n",
            "116/116 [==============================] - 8s 72ms/step - loss: 0.3405 - accuracy: 0.8830\n",
            "Epoch 6/100\n",
            "116/116 [==============================] - 8s 71ms/step - loss: 0.3421 - accuracy: 0.8841\n",
            "Epoch 7/100\n",
            "116/116 [==============================] - 8s 72ms/step - loss: 0.2337 - accuracy: 0.9197\n",
            "Epoch 8/100\n",
            "116/116 [==============================] - 8s 72ms/step - loss: 0.2232 - accuracy: 0.9267\n",
            "Epoch 9/100\n",
            "116/116 [==============================] - 8s 72ms/step - loss: 0.2690 - accuracy: 0.9208\n",
            "Epoch 10/100\n",
            "116/116 [==============================] - 8s 72ms/step - loss: 0.1908 - accuracy: 0.9391\n",
            "Epoch 11/100\n",
            "116/116 [==============================] - 8s 71ms/step - loss: 0.1923 - accuracy: 0.9375\n",
            "Epoch 12/100\n",
            "116/116 [==============================] - 8s 72ms/step - loss: 0.2053 - accuracy: 0.9364\n",
            "Epoch 13/100\n",
            "116/116 [==============================] - 8s 72ms/step - loss: 0.1492 - accuracy: 0.9580\n",
            "Epoch 14/100\n",
            "116/116 [==============================] - 8s 72ms/step - loss: 0.1083 - accuracy: 0.9682\n",
            "Epoch 15/100\n",
            "116/116 [==============================] - 8s 72ms/step - loss: 0.1676 - accuracy: 0.9515\n",
            "Epoch 16/100\n",
            "116/116 [==============================] - 8s 71ms/step - loss: 0.1455 - accuracy: 0.9596\n",
            "Epoch 17/100\n",
            "116/116 [==============================] - 8s 71ms/step - loss: 0.1633 - accuracy: 0.9574\n",
            "Epoch 18/100\n",
            "116/116 [==============================] - 8s 71ms/step - loss: 0.1233 - accuracy: 0.9660\n",
            "Epoch 19/100\n",
            "116/116 [==============================] - 8s 71ms/step - loss: 0.1113 - accuracy: 0.9644\n",
            "Epoch 20/100\n",
            "116/116 [==============================] - 8s 71ms/step - loss: 0.1007 - accuracy: 0.9644\n",
            "Epoch 21/100\n",
            "116/116 [==============================] - 8s 71ms/step - loss: 0.1161 - accuracy: 0.9655\n",
            "Epoch 22/100\n",
            "116/116 [==============================] - 8s 71ms/step - loss: 0.0969 - accuracy: 0.9725\n",
            "Epoch 23/100\n",
            "116/116 [==============================] - 8s 71ms/step - loss: 0.0973 - accuracy: 0.9741\n",
            "Epoch 24/100\n",
            "116/116 [==============================] - 8s 71ms/step - loss: 0.1147 - accuracy: 0.9671\n",
            "Epoch 25/100\n",
            "116/116 [==============================] - 8s 71ms/step - loss: 0.1631 - accuracy: 0.9574\n",
            "Epoch 26/100\n",
            "116/116 [==============================] - 8s 71ms/step - loss: 0.1300 - accuracy: 0.9687\n",
            "Epoch 27/100\n",
            "116/116 [==============================] - 8s 72ms/step - loss: 0.0742 - accuracy: 0.9779\n",
            "Epoch 28/100\n",
            "116/116 [==============================] - 8s 71ms/step - loss: 0.0645 - accuracy: 0.9827\n",
            "Epoch 29/100\n",
            "116/116 [==============================] - 8s 71ms/step - loss: 0.0563 - accuracy: 0.9811\n",
            "Epoch 30/100\n",
            "116/116 [==============================] - 8s 71ms/step - loss: 0.0655 - accuracy: 0.9763\n",
            "Epoch 31/100\n",
            "116/116 [==============================] - 8s 71ms/step - loss: 0.0982 - accuracy: 0.9720\n",
            "Epoch 32/100\n",
            "116/116 [==============================] - 8s 71ms/step - loss: 0.1026 - accuracy: 0.9757\n",
            "Epoch 33/100\n",
            "116/116 [==============================] - 8s 71ms/step - loss: 0.0912 - accuracy: 0.9811\n",
            "Epoch 34/100\n",
            "116/116 [==============================] - 8s 71ms/step - loss: 0.0946 - accuracy: 0.9741\n",
            "Epoch 35/100\n",
            "116/116 [==============================] - 8s 71ms/step - loss: 0.0606 - accuracy: 0.9833\n",
            "Epoch 36/100\n",
            "116/116 [==============================] - 8s 71ms/step - loss: 0.1172 - accuracy: 0.9714\n",
            "Epoch 37/100\n",
            "116/116 [==============================] - 8s 71ms/step - loss: 0.0625 - accuracy: 0.9838\n",
            "Epoch 38/100\n",
            "116/116 [==============================] - 8s 71ms/step - loss: 0.0723 - accuracy: 0.9790\n",
            "Epoch 39/100\n",
            "116/116 [==============================] - 8s 71ms/step - loss: 0.0737 - accuracy: 0.9806\n",
            "Epoch 40/100\n",
            "116/116 [==============================] - 8s 71ms/step - loss: 0.0678 - accuracy: 0.9854\n",
            "Epoch 41/100\n",
            "116/116 [==============================] - 8s 71ms/step - loss: 0.0538 - accuracy: 0.9844\n",
            "Epoch 42/100\n",
            "116/116 [==============================] - 8s 71ms/step - loss: 0.0777 - accuracy: 0.9811\n",
            "Epoch 43/100\n",
            "116/116 [==============================] - 8s 71ms/step - loss: 0.0369 - accuracy: 0.9914\n",
            "Epoch 44/100\n",
            "116/116 [==============================] - 8s 71ms/step - loss: 0.0516 - accuracy: 0.9844\n",
            "Epoch 45/100\n",
            "116/116 [==============================] - 8s 71ms/step - loss: 0.0527 - accuracy: 0.9838\n",
            "Epoch 46/100\n",
            "116/116 [==============================] - 8s 70ms/step - loss: 0.0444 - accuracy: 0.9844\n",
            "Epoch 47/100\n",
            "116/116 [==============================] - 8s 71ms/step - loss: 0.0901 - accuracy: 0.9779\n",
            "Epoch 48/100\n",
            "116/116 [==============================] - 8s 71ms/step - loss: 0.0730 - accuracy: 0.9806\n",
            "Epoch 49/100\n",
            "116/116 [==============================] - 8s 71ms/step - loss: 0.0587 - accuracy: 0.9838\n",
            "Epoch 50/100\n",
            "116/116 [==============================] - 8s 71ms/step - loss: 0.0580 - accuracy: 0.9827\n",
            "Epoch 51/100\n",
            "116/116 [==============================] - 8s 70ms/step - loss: 0.0860 - accuracy: 0.9790\n",
            "Epoch 52/100\n",
            "116/116 [==============================] - 8s 70ms/step - loss: 0.0895 - accuracy: 0.9790\n",
            "Epoch 53/100\n",
            "116/116 [==============================] - 8s 71ms/step - loss: 0.0986 - accuracy: 0.9768\n",
            "Epoch 54/100\n",
            "116/116 [==============================] - 8s 71ms/step - loss: 0.0873 - accuracy: 0.9827\n",
            "Epoch 55/100\n",
            "116/116 [==============================] - 8s 70ms/step - loss: 0.0541 - accuracy: 0.9833\n",
            "Epoch 56/100\n",
            "116/116 [==============================] - 8s 71ms/step - loss: 0.0488 - accuracy: 0.9887\n",
            "Epoch 57/100\n",
            "116/116 [==============================] - 8s 70ms/step - loss: 0.0522 - accuracy: 0.9881\n",
            "Epoch 58/100\n",
            "116/116 [==============================] - 8s 72ms/step - loss: 0.0901 - accuracy: 0.9779\n",
            "Epoch 59/100\n",
            "116/116 [==============================] - 8s 71ms/step - loss: 0.0782 - accuracy: 0.9833\n",
            "Epoch 60/100\n",
            "116/116 [==============================] - 8s 71ms/step - loss: 0.0576 - accuracy: 0.9844\n",
            "Epoch 61/100\n",
            "116/116 [==============================] - 8s 71ms/step - loss: 0.0357 - accuracy: 0.9919\n",
            "Epoch 62/100\n",
            "116/116 [==============================] - 8s 71ms/step - loss: 0.0541 - accuracy: 0.9822\n",
            "Epoch 63/100\n",
            "116/116 [==============================] - 8s 71ms/step - loss: 0.0822 - accuracy: 0.9795\n",
            "Epoch 64/100\n",
            "116/116 [==============================] - 8s 71ms/step - loss: 0.0639 - accuracy: 0.9822\n",
            "Epoch 65/100\n",
            "116/116 [==============================] - 8s 71ms/step - loss: 0.0480 - accuracy: 0.9914\n",
            "Epoch 66/100\n",
            "116/116 [==============================] - 8s 71ms/step - loss: 0.0582 - accuracy: 0.9892\n",
            "Epoch 67/100\n",
            "116/116 [==============================] - 8s 71ms/step - loss: 0.0541 - accuracy: 0.9838\n",
            "Epoch 68/100\n",
            "116/116 [==============================] - 8s 70ms/step - loss: 0.0893 - accuracy: 0.9779\n",
            "Epoch 69/100\n",
            "116/116 [==============================] - 8s 71ms/step - loss: 0.0367 - accuracy: 0.9887\n",
            "Epoch 70/100\n",
            "116/116 [==============================] - 8s 70ms/step - loss: 0.0274 - accuracy: 0.9925\n",
            "Epoch 71/100\n",
            "116/116 [==============================] - 8s 71ms/step - loss: 0.0384 - accuracy: 0.9925\n",
            "Epoch 72/100\n",
            "116/116 [==============================] - 8s 70ms/step - loss: 0.0429 - accuracy: 0.9881\n",
            "Epoch 73/100\n",
            "116/116 [==============================] - 8s 71ms/step - loss: 0.0360 - accuracy: 0.9925\n",
            "Epoch 74/100\n",
            "116/116 [==============================] - 8s 71ms/step - loss: 0.0854 - accuracy: 0.9774\n",
            "Epoch 75/100\n",
            "116/116 [==============================] - 8s 71ms/step - loss: 0.0506 - accuracy: 0.9881\n",
            "Epoch 76/100\n",
            "116/116 [==============================] - 8s 71ms/step - loss: 0.0466 - accuracy: 0.9849\n",
            "Epoch 77/100\n",
            "116/116 [==============================] - 8s 70ms/step - loss: 0.0646 - accuracy: 0.9844\n",
            "Epoch 78/100\n",
            "116/116 [==============================] - 8s 71ms/step - loss: 0.0465 - accuracy: 0.9860\n",
            "Epoch 79/100\n",
            "116/116 [==============================] - 8s 71ms/step - loss: 0.0312 - accuracy: 0.9941\n",
            "Epoch 80/100\n",
            "116/116 [==============================] - 8s 71ms/step - loss: 0.0358 - accuracy: 0.9892\n",
            "Epoch 81/100\n",
            "116/116 [==============================] - 8s 71ms/step - loss: 0.0460 - accuracy: 0.9919\n",
            "Epoch 82/100\n",
            "116/116 [==============================] - 8s 71ms/step - loss: 0.0318 - accuracy: 0.9919\n",
            "Epoch 83/100\n",
            "116/116 [==============================] - 8s 71ms/step - loss: 0.0416 - accuracy: 0.9930\n",
            "Epoch 84/100\n",
            "116/116 [==============================] - 8s 71ms/step - loss: 0.0517 - accuracy: 0.9881\n",
            "Epoch 85/100\n",
            "116/116 [==============================] - 8s 71ms/step - loss: 0.0539 - accuracy: 0.9844\n",
            "Epoch 86/100\n",
            "116/116 [==============================] - 8s 71ms/step - loss: 0.0728 - accuracy: 0.9838\n",
            "Epoch 87/100\n",
            "116/116 [==============================] - 8s 70ms/step - loss: 0.0442 - accuracy: 0.9876\n",
            "Epoch 88/100\n",
            "116/116 [==============================] - 8s 70ms/step - loss: 0.0426 - accuracy: 0.9903\n",
            "Epoch 89/100\n",
            "116/116 [==============================] - 8s 70ms/step - loss: 0.0336 - accuracy: 0.9914\n",
            "Epoch 90/100\n",
            "116/116 [==============================] - 8s 71ms/step - loss: 0.0321 - accuracy: 0.9908\n",
            "Epoch 91/100\n",
            "116/116 [==============================] - 8s 70ms/step - loss: 0.0487 - accuracy: 0.9919\n",
            "Epoch 92/100\n",
            "116/116 [==============================] - 8s 70ms/step - loss: 0.0331 - accuracy: 0.9898\n",
            "Epoch 93/100\n",
            "116/116 [==============================] - 8s 71ms/step - loss: 0.0531 - accuracy: 0.9876\n",
            "Epoch 94/100\n",
            "116/116 [==============================] - 8s 71ms/step - loss: 0.0479 - accuracy: 0.9903\n",
            "Epoch 95/100\n",
            "116/116 [==============================] - 8s 71ms/step - loss: 0.0283 - accuracy: 0.9914\n",
            "Epoch 96/100\n",
            "116/116 [==============================] - 8s 71ms/step - loss: 0.0320 - accuracy: 0.9919\n",
            "Epoch 97/100\n",
            "116/116 [==============================] - 8s 72ms/step - loss: 0.0948 - accuracy: 0.9811\n",
            "Epoch 98/100\n",
            "116/116 [==============================] - 8s 71ms/step - loss: 0.0351 - accuracy: 0.9892\n",
            "Epoch 99/100\n",
            "116/116 [==============================] - 8s 70ms/step - loss: 0.0438 - accuracy: 0.9898\n",
            "Epoch 100/100\n",
            "116/116 [==============================] - 8s 71ms/step - loss: 0.1023 - accuracy: 0.9822\n"
          ],
          "name": "stdout"
        }
      ]
    },
    {
      "cell_type": "code",
      "metadata": {
        "id": "6Ha_fUwNa7cL",
        "colab_type": "code",
        "colab": {
          "base_uri": "https://localhost:8080/",
          "height": 573
        },
        "outputId": "4a375fa9-218e-4a8f-e664-522e1b80d321"
      },
      "source": [
        "# summarize history for accuracy\n",
        "plt.plot(history.history['accuracy'])\n",
        "plt.title('model accuracy')\n",
        "plt.ylabel('accuracy')\n",
        "plt.xlabel('epoch')\n",
        "plt.legend(['train'], loc='upper left')\n",
        "plt.show()\n",
        "\n",
        "\n",
        "# summarize history for loss\n",
        "plt.plot(history.history['loss'])\n",
        "plt.title('model loss')\n",
        "plt.ylabel('loss')\n",
        "plt.xlabel('epoch')\n",
        "plt.legend(['train'], loc='upper left')\n",
        "plt.show()"
      ],
      "execution_count": 14,
      "outputs": [
        {
          "output_type": "display_data",
          "data": {
            "image/png": "[encoded data removed]",
            "text/plain": [
              "<Figure size 432x288 with 1 Axes>"
            ]
          },
          "metadata": {
            "tags": [],
            "needs_background": "light"
          }
        },
        {
          "output_type": "display_data",
          "data": {
            "image/png": "[encoded data removed]",
            "text/plain": [
              "<Figure size 432x288 with 1 Axes>"
            ]
          },
          "metadata": {
            "tags": [],
            "needs_background": "light"
          }
        }
      ]
    },
    {
      "cell_type": "markdown",
      "metadata": {
        "id": "6AJruAYGvROh",
        "colab_type": "text"
      },
      "source": [
        "## Testing"
      ]
    },
    {
      "cell_type": "code",
      "metadata": {
        "id": "QkwBCitBvQ6m",
        "colab_type": "code",
        "colab": {}
      },
      "source": [
        "y_hat = model.predict_classes(X_test)\n",
        "y_hat = to_categorical(y_hat)"
      ],
      "execution_count": 15,
      "outputs": []
    },
    {
      "cell_type": "code",
      "metadata": {
        "id": "dQxL2pB1wV1M",
        "colab_type": "code",
        "colab": {
          "base_uri": "https://localhost:8080/",
          "height": 34
        },
        "outputId": "69f5c698-a516-4dcf-acd3-53f6d5982a9a"
      },
      "source": [
        "m = tf.keras.metrics.Accuracy()\n",
        "m.update_state(Y_test,y_hat)\n",
        "m.result().numpy()"
      ],
      "execution_count": 16,
      "outputs": [
        {
          "output_type": "execute_result",
          "data": {
            "text/plain": [
              "0.9932367"
            ]
          },
          "metadata": {
            "tags": []
          },
          "execution_count": 16
        }
      ]
    },
    {
      "cell_type": "markdown",
      "metadata": {
        "id": "TDvPGx3Axwsy",
        "colab_type": "text"
      },
      "source": [
        "### The accuracy on the Test Set picked randomly is 99.32 percent"
      ]
    },
    {
      "cell_type": "markdown",
      "metadata": {
        "id": "B3H2wTm-2aeq",
        "colab_type": "text"
      },
      "source": [
        "# Saving model"
      ]
    },
    {
      "cell_type": "code",
      "metadata": {
        "id": "iZCQFpJI2aBJ",
        "colab_type": "code",
        "colab": {}
      },
      "source": [
        "model.save('Hand_sign_model.h5') "
      ],
      "execution_count": 17,
      "outputs": []
    },
    {
      "cell_type": "markdown",
      "metadata": {
        "id": "mG1pgZpk229v",
        "colab_type": "text"
      },
      "source": [
        "# Predictions from model saved"
      ]
    },
    {
      "cell_type": "code",
      "metadata": {
        "id": "0G-BTFvb2VxS",
        "colab_type": "code",
        "colab": {
          "base_uri": "https://localhost:8080/",
          "height": 790
        },
        "outputId": "aaa7a032-1033-4bd7-a201-bbb9a2b07bed"
      },
      "source": [
        "# Recreate the exact same model, including its weights and the optimizer\n",
        "new_model = tf.keras.models.load_model('/content/Hand_sign_model.h5')\n",
        "\n",
        "# Show the model architecture\n",
        "new_model.summary()"
      ],
      "execution_count": 18,
      "outputs": [
        {
          "output_type": "stream",
          "text": [
            "Model: \"sequential_1\"\n",
            "_________________________________________________________________\n",
            "Layer (type)                 Output Shape              Param #   \n",
            "=================================================================\n",
            "conv2d_1 (Conv2D)            (None, 100, 100, 64)      1792      \n",
            "_________________________________________________________________\n",
            "batch_normalization_1 (Batch (None, 100, 100, 64)      256       \n",
            "_________________________________________________________________\n",
            "max_pooling2d_1 (MaxPooling2 (None, 50, 50, 64)        0         \n",
            "_________________________________________________________________\n",
            "conv2d_2 (Conv2D)            (None, 50, 50, 128)       73856     \n",
            "_________________________________________________________________\n",
            "dropout_1 (Dropout)          (None, 50, 50, 128)       0         \n",
            "_________________________________________________________________\n",
            "batch_normalization_2 (Batch (None, 50, 50, 128)       512       \n",
            "_________________________________________________________________\n",
            "max_pooling2d_2 (MaxPooling2 (None, 25, 25, 128)       0         \n",
            "_________________________________________________________________\n",
            "conv2d_3 (Conv2D)            (None, 25, 25, 32)        36896     \n",
            "_________________________________________________________________\n",
            "batch_normalization_3 (Batch (None, 25, 25, 32)        128       \n",
            "_________________________________________________________________\n",
            "max_pooling2d_3 (MaxPooling2 (None, 13, 13, 32)        0         \n",
            "_________________________________________________________________\n",
            "conv2d_4 (Conv2D)            (None, 13, 13, 128)       36992     \n",
            "_________________________________________________________________\n",
            "dropout_2 (Dropout)          (None, 13, 13, 128)       0         \n",
            "_________________________________________________________________\n",
            "batch_normalization_4 (Batch (None, 13, 13, 128)       512       \n",
            "_________________________________________________________________\n",
            "max_pooling2d_4 (MaxPooling2 (None, 7, 7, 128)         0         \n",
            "_________________________________________________________________\n",
            "flatten_1 (Flatten)          (None, 6272)              0         \n",
            "_________________________________________________________________\n",
            "dense_1 (Dense)              (None, 512)               3211776   \n",
            "_________________________________________________________________\n",
            "dropout_3 (Dropout)          (None, 512)               0         \n",
            "_________________________________________________________________\n",
            "dense_2 (Dense)              (None, 100)               51300     \n",
            "_________________________________________________________________\n",
            "dense_3 (Dense)              (None, 10)                1010      \n",
            "=================================================================\n",
            "Total params: 3,415,030\n",
            "Trainable params: 3,414,326\n",
            "Non-trainable params: 704\n",
            "_________________________________________________________________\n"
          ],
          "name": "stdout"
        }
      ]
    },
    {
      "cell_type": "markdown",
      "metadata": {
        "id": "f0-remrp3GAF",
        "colab_type": "text"
      },
      "source": [
        "# The loaded model can now be used to make predictions"
      ]
    }
  ]
}